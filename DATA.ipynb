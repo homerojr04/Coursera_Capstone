{
 "cells": [
  {
   "cell_type": "markdown",
   "metadata": {},
   "source": [
    "# Data Requirements:\n",
    "\n",
    "\n",
    "##### 1)geospatial data for the city\n",
    "http://cocl.us/Geospatial_data\n",
    "\n",
    "##### 2)New York Dataset\n",
    "https://cocl.us/new_york_dataset\n",
    "\n",
    "##### 3)Foursquare API to download all venues information from all neighborhoods\n",
    "https://api.foursquare.com\n",
    "\n",
    "Pizza Place\n",
    "4bf58dd8d48988d1ca941735\n",
    "\n",
    "\n",
    "##### 4)Python libraries:\n",
    "Pandas: Creating and manipulating data frames\n",
    "\n",
    "Numpy: Powerful n-dimensional arrays and numerical computing tools\n",
    "\n",
    "Folium: Python visualization library would be used to visualize the neighborhoods cluster\n",
    "\n",
    "Scikit Learn: for importing k-means clustering\n",
    "\n",
    "JSON: Library to handle JSON files\n",
    "\n",
    "Geocoder: To retrieve Location Data\n",
    "\n",
    "BeautifulSoup and Requests: To scrap and library to handle http requests\n",
    "\n",
    "Matplotlib: Python Plotting Module"
   ]
  },
  {
   "cell_type": "code",
   "execution_count": null,
   "metadata": {},
   "outputs": [],
   "source": []
  },
  {
   "cell_type": "code",
   "execution_count": null,
   "metadata": {},
   "outputs": [],
   "source": []
  }
 ],
 "metadata": {
  "kernelspec": {
   "display_name": "Python 3",
   "language": "python",
   "name": "python3"
  },
  "language_info": {
   "codemirror_mode": {
    "name": "ipython",
    "version": 3
   },
   "file_extension": ".py",
   "mimetype": "text/x-python",
   "name": "python",
   "nbconvert_exporter": "python",
   "pygments_lexer": "ipython3",
   "version": "3.7.6"
  }
 },
 "nbformat": 4,
 "nbformat_minor": 4
}
